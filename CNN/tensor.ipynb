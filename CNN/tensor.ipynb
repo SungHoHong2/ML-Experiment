{
 "cells": [
  {
   "cell_type": "code",
   "execution_count": 1,
   "metadata": {},
   "outputs": [],
   "source": [
    "# Rank of a tensor \n",
    "# number of dimensions of the tensor \n",
    "import torch\n",
    "t = torch.Tensor([[1, 2, 3],\n",
    "                  [4, 5, 6],\n",
    "                  [7, 8, 9]])"
   ]
  },
  {
   "cell_type": "code",
   "execution_count": 3,
   "metadata": {},
   "outputs": [
    {
     "data": {
      "text/plain": [
       "tensor([[1., 2., 3.],\n",
       "        [4., 5., 6.],\n",
       "        [7., 8., 9.]])"
      ]
     },
     "execution_count": 3,
     "metadata": {},
     "output_type": "execute_result"
    }
   ],
   "source": [
    "t"
   ]
  },
  {
   "cell_type": "code",
   "execution_count": 2,
   "metadata": {},
   "outputs": [
    {
     "data": {
      "text/plain": [
       "torch.Size([3, 3])"
      ]
     },
     "execution_count": 2,
     "metadata": {},
     "output_type": "execute_result"
    }
   ],
   "source": [
    "# 3 rows and 3 cols\n",
    "t.shape"
   ]
  },
  {
   "cell_type": "code",
   "execution_count": 4,
   "metadata": {},
   "outputs": [
    {
     "data": {
      "text/plain": [
       "tensor([[1., 2., 3., 4., 5., 6., 7., 8., 9.]])"
      ]
     },
     "execution_count": 4,
     "metadata": {},
     "output_type": "execute_result"
    }
   ],
   "source": [
    "# reshape the tensor into 1 row and 9 columns\n",
    "t.reshape(1,9)"
   ]
  },
  {
   "cell_type": "code",
   "execution_count": 5,
   "metadata": {},
   "outputs": [],
   "source": [
    "# CNN tensor format \n",
    "# [batch size, color channel, height, width]"
   ]
  },
  {
   "cell_type": "code",
   "execution_count": 11,
   "metadata": {},
   "outputs": [
    {
     "name": "stdout",
     "output_type": "stream",
     "text": [
      "torch.Size([4, 4])\n",
      "16\n",
      "tensor([[1., 1., 1., 1., 2., 2., 2., 2., 3., 3., 3., 3., 4., 4., 4., 4.]])\n",
      "torch.Size([1, 16])\n",
      "tensor([1., 1., 1., 1., 2., 2., 2., 2., 3., 3., 3., 3., 4., 4., 4., 4.])\n",
      "torch.Size([16])\n",
      "tensor([[1., 1., 1., 1., 2., 2., 2., 2., 3., 3., 3., 3., 4., 4., 4., 4.]])\n",
      "torch.Size([1, 16])\n"
     ]
    }
   ],
   "source": [
    "# reshaping operations\n",
    "t1 = torch.Tensor([[1, 1, 1, 1],\n",
    "                   [2, 2, 2, 2],\n",
    "                   [3, 3, 3, 3],\n",
    "                   [4, 4, 4, 4]\n",
    "                   ])\n",
    "print(t1.shape)\n",
    "print(t1.numel())\n",
    "print(t1.reshape(1,16))\n",
    "print(t1.reshape(1,16).shape)\n",
    "print(t1.reshape(1,16).squeeze())\n",
    "print(t1.reshape(1,16).squeeze().shape)\n",
    "print(t1.reshape(1,16).squeeze().unsqueeze(dim=0))\n",
    "print(t1.reshape(1,16).squeeze().unsqueeze(dim=0).shape)"
   ]
  },
  {
   "cell_type": "code",
   "execution_count": 12,
   "metadata": {},
   "outputs": [
    {
     "name": "stdout",
     "output_type": "stream",
     "text": [
      "tensor([1., 1., 1., 1., 2., 2., 2., 2., 3., 3., 3., 3., 4., 4., 4., 4.])\n"
     ]
    }
   ],
   "source": [
    "def flatten(t):\n",
    "    t = t.reshape(1,-1)\n",
    "    t = t.squeeze()\n",
    "    return t \n",
    "print(flatten(t1))"
   ]
  },
  {
   "cell_type": "code",
   "execution_count": 13,
   "metadata": {},
   "outputs": [
    {
     "name": "stdout",
     "output_type": "stream",
     "text": [
      "tensor([[[1., 1., 1., 1.],\n",
      "         [1., 1., 1., 1.],\n",
      "         [1., 1., 1., 1.],\n",
      "         [1., 1., 1., 1.]],\n",
      "\n",
      "        [[2., 2., 2., 2.],\n",
      "         [2., 2., 2., 2.],\n",
      "         [2., 2., 2., 2.],\n",
      "         [2., 2., 2., 2.]],\n",
      "\n",
      "        [[3., 3., 3., 3.],\n",
      "         [3., 3., 3., 3.],\n",
      "         [3., 3., 3., 3.],\n",
      "         [3., 3., 3., 3.]]])\n",
      "torch.Size([3, 4, 4])\n"
     ]
    }
   ],
   "source": [
    "# creating a batch \n",
    "t1 = torch.Tensor([[1, 1, 1, 1],\n",
    "                   [1, 1, 1, 1],\n",
    "                   [1, 1, 1, 1],\n",
    "                   [1, 1, 1, 1]\n",
    "                   ])\n",
    "t2 = torch.Tensor([[2, 2, 2, 2],\n",
    "                   [2, 2, 2, 2],\n",
    "                   [2, 2, 2, 2],\n",
    "                   [2, 2, 2, 2]\n",
    "                   ])\n",
    "t3 = torch.Tensor([[3, 3, 3, 3],\n",
    "                   [3, 3, 3, 3],\n",
    "                   [3, 3, 3, 3],\n",
    "                   [3, 3, 3, 3]\n",
    "                   ])\n",
    "\n",
    "t = torch.stack((t1,t2,t3))\n",
    "print(t)\n",
    "print(t.shape)"
   ]
  },
  {
   "cell_type": "code",
   "execution_count": 16,
   "metadata": {},
   "outputs": [
    {
     "name": "stdout",
     "output_type": "stream",
     "text": [
      "tensor([[[[1., 1., 1., 1.],\n",
      "          [1., 1., 1., 1.],\n",
      "          [1., 1., 1., 1.],\n",
      "          [1., 1., 1., 1.]]],\n",
      "\n",
      "\n",
      "        [[[2., 2., 2., 2.],\n",
      "          [2., 2., 2., 2.],\n",
      "          [2., 2., 2., 2.],\n",
      "          [2., 2., 2., 2.]]],\n",
      "\n",
      "\n",
      "        [[[3., 3., 3., 3.],\n",
      "          [3., 3., 3., 3.],\n",
      "          [3., 3., 3., 3.],\n",
      "          [3., 3., 3., 3.]]]])\n",
      "torch.Size([3, 1, 4, 4])\n",
      "first item in the batch\n",
      " tensor([[[1., 1., 1., 1.],\n",
      "         [1., 1., 1., 1.],\n",
      "         [1., 1., 1., 1.],\n",
      "         [1., 1., 1., 1.]]])\n",
      "first color channel\n",
      " tensor([[1., 1., 1., 1.],\n",
      "        [1., 1., 1., 1.],\n",
      "        [1., 1., 1., 1.],\n",
      "        [1., 1., 1., 1.]])\n",
      "first row\n",
      " tensor([1., 1., 1., 1.])\n",
      "first column\n",
      " tensor(1.)\n"
     ]
    }
   ],
   "source": [
    "# reshape into CNN tensor \n",
    "t = t.reshape(3,1,4,4)\n",
    "print(t)\n",
    "print(t.shape)\n",
    "print(\"first item in the batch\\n\", t[0])\n",
    "print('first color channel\\n',t[0][0])\n",
    "print('first row\\n',t[0][0][0])\n",
    "print('first column\\n',t[0][0][0][0])"
   ]
  },
  {
   "cell_type": "code",
   "execution_count": 17,
   "metadata": {},
   "outputs": [
    {
     "name": "stdout",
     "output_type": "stream",
     "text": [
      "tensor([[2., 2.],\n",
      "        [2., 2.]])\n",
      "tensor([[3., 3.],\n",
      "        [3., 3.]])\n"
     ]
    }
   ],
   "source": [
    "# Element-wise operations \n",
    "t1 = torch.tensor([\n",
    "    [1,1],\n",
    "    [1,1]\n",
    "], dtype = torch.float32)\n",
    "\n",
    "t2 = torch.tensor([\n",
    "    [1,1],\n",
    "    [1,1]\n",
    "], dtype = torch.float32)\n",
    "print(t1 + t2)\n",
    "print(t1 + 2)"
   ]
  },
  {
   "cell_type": "code",
   "execution_count": 18,
   "metadata": {},
   "outputs": [
    {
     "name": "stdout",
     "output_type": "stream",
     "text": [
      "tensor(8.) 1 9\n",
      "tensor(0.) tensor(0.8889) tensor(1.1667)\n",
      "sum of the rows\t tensor([2., 4., 2.])\n",
      "sum of the cols\t tensor([1., 4., 3.])\n"
     ]
    }
   ],
   "source": [
    "# Reduction Operations \n",
    "t = torch.tensor([\n",
    "    [0,1,0],\n",
    "    [2,0,2],\n",
    "    [0,3,0]\n",
    "], dtype=torch.float32)\n",
    "\n",
    "print(t.sum(), t.sum().numel(), t.numel())\n",
    "print(t.prod(), t.mean(), t.std())\n",
    "print(\"sum of the cols\\t\", t.sum(dim=0))\n",
    "print(\"sum of the rows\\t\", t.sum(dim=1))"
   ]
  },
  {
   "cell_type": "code",
   "execution_count": 27,
   "metadata": {},
   "outputs": [
    {
     "name": "stdout",
     "output_type": "stream",
     "text": [
      "5.0\n",
      "torch.return_types.max(\n",
      "values=tensor([4., 3., 3., 5.]),\n",
      "indices=tensor([2, 1, 1, 2]))\n",
      "tensor([2, 1, 1, 2])\n",
      "[2.0, 3.0, 5.0]\n",
      "[3, 1, 3]\n"
     ]
    }
   ],
   "source": [
    "t = torch.tensor([\n",
    "    [1,0,0,2],\n",
    "    [0,3,3,0],\n",
    "    [4,0,0,5],\n",
    "],dtype=torch.float32)\n",
    "print(t.max().item())\n",
    "# max value from each columns\n",
    "print(t.max(dim=0))\n",
    "# return the rows that contain the max value from each columns \n",
    "print(t.argmax(dim=0))\n",
    "# max value from each rows\n",
    "print(t.max(dim=1).values.tolist())\n",
    "# return the columns that contain the max value from each rows \n",
    "print(t.argmax(dim=1).tolist())"
   ]
  },
  {
   "cell_type": "code",
   "execution_count": null,
   "metadata": {},
   "outputs": [],
   "source": []
  }
 ],
 "metadata": {
  "kernelspec": {
   "display_name": "Python 3",
   "language": "python",
   "name": "python3"
  },
  "language_info": {
   "codemirror_mode": {
    "name": "ipython",
    "version": 3
   },
   "file_extension": ".py",
   "mimetype": "text/x-python",
   "name": "python",
   "nbconvert_exporter": "python",
   "pygments_lexer": "ipython3",
   "version": "3.8.5"
  }
 },
 "nbformat": 4,
 "nbformat_minor": 1
}
